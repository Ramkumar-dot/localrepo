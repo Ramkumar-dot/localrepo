{
 "cells": [
  {
   "cell_type": "markdown",
   "id": "147d383c",
   "metadata": {},
   "source": [
    "# POLIMORPHISM"
   ]
  },
  {
   "cell_type": "code",
   "execution_count": 4,
   "id": "aafc8a1e",
   "metadata": {},
   "outputs": [
    {
     "name": "stdout",
     "output_type": "stream",
     "text": [
      "its a fryit\n",
      "its a vegetable\n"
     ]
    }
   ],
   "source": [
    "class apple():\n",
    "    def fruit(self):\n",
    "        print(\"its a fryit\")\n",
    "\n",
    "class potato():\n",
    "    def vegetable(self):\n",
    "        print(\"its a vegetable\")\n",
    "obj1=apple()\n",
    "obj1.fruit()\n",
    "obj2=potato()\n",
    "obj2.vegetable()\n",
    "\n",
    "    "
   ]
  },
  {
   "cell_type": "code",
   "execution_count": 5,
   "id": "e914500f",
   "metadata": {},
   "outputs": [
    {
     "name": "stdout",
     "output_type": "stream",
     "text": [
      "kili is a bird\n"
     ]
    }
   ],
   "source": [
    "class bird():\n",
    "    def func1(self):\n",
    "        print(\"birds\")\n",
    "class kili(bird):\n",
    "    def func2(self):\n",
    "        print(\"kili is a bird\")\n",
    "    \n",
    "    \n",
    "ok1=kili()\n",
    "ok1.func2()"
   ]
  },
  {
   "cell_type": "markdown",
   "id": "72a6e6db",
   "metadata": {},
   "source": [
    "# ENCAPSULATION"
   ]
  },
  {
   "cell_type": "code",
   "execution_count": 6,
   "id": "0ee46de7",
   "metadata": {},
   "outputs": [
    {
     "name": "stdout",
     "output_type": "stream",
     "text": [
      "hello welcome\n",
      "helloworld\n"
     ]
    }
   ],
   "source": [
    "class A:\n",
    "    def __init__(self):\n",
    "        self.__hi()\n",
    "    def Helloworld(self):\n",
    "        print(\"helloworld\")\n",
    "    def __hi(self):\n",
    "        print(\"hello welcome\")\n",
    "        \n",
    "obj=A()\n",
    "obj.Helloworld()\n",
    " "
   ]
  },
  {
   "cell_type": "markdown",
   "id": "0ce76d6e",
   "metadata": {},
   "source": [
    "# ABSTRACTION"
   ]
  },
  {
   "cell_type": "code",
   "execution_count": 7,
   "id": "81852a3d",
   "metadata": {},
   "outputs": [
    {
     "name": "stdout",
     "output_type": "stream",
     "text": [
      "HDFC\n",
      "Chennai\n"
     ]
    }
   ],
   "source": [
    "class bank():\n",
    "    def bank_name(self):\n",
    "        print(\"HDFC\")\n",
    "    def bank_loc(self):\n",
    "        pass\n",
    "class bank_loc(bank):\n",
    "    def bank_loc(self):\n",
    "        print(\"Chennai\")\n",
    "ol1=bank_loc()\n",
    "ol1.bank_name()\n",
    "ol1.bank_loc()"
   ]
  },
  {
   "cell_type": "code",
   "execution_count": null,
   "id": "9236b05b",
   "metadata": {},
   "outputs": [],
   "source": []
  }
 ],
 "metadata": {
  "kernelspec": {
   "display_name": "Python 3",
   "language": "python",
   "name": "python3"
  },
  "language_info": {
   "codemirror_mode": {
    "name": "ipython",
    "version": 3
   },
   "file_extension": ".py",
   "mimetype": "text/x-python",
   "name": "python",
   "nbconvert_exporter": "python",
   "pygments_lexer": "ipython3",
   "version": "3.8.8"
  }
 },
 "nbformat": 4,
 "nbformat_minor": 5
}
