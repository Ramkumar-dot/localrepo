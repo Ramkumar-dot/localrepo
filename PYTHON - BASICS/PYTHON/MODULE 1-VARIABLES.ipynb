{
 "cells": [
  {
   "cell_type": "markdown",
   "id": "f0694e29",
   "metadata": {},
   "source": [
    "# variables\n",
    "\n"
   ]
  },
  {
   "cell_type": "markdown",
   "id": "520a9ad4",
   "metadata": {},
   "source": [
    "### ASSIGNING VARIABLES"
   ]
  },
  {
   "cell_type": "code",
   "execution_count": 1,
   "id": "3345bb5c",
   "metadata": {},
   "outputs": [
    {
     "name": "stdout",
     "output_type": "stream",
     "text": [
      "10\n"
     ]
    }
   ],
   "source": [
    "c=10\n",
    "print(10)"
   ]
  },
  {
   "cell_type": "code",
   "execution_count": 2,
   "id": "3fdf23de",
   "metadata": {},
   "outputs": [
    {
     "name": "stdout",
     "output_type": "stream",
     "text": [
      "hello world\n"
     ]
    }
   ],
   "source": [
    "x=\"hello world\"\n",
    "print(x)"
   ]
  },
  {
   "cell_type": "code",
   "execution_count": 4,
   "id": "ef800390",
   "metadata": {},
   "outputs": [
    {
     "name": "stdout",
     "output_type": "stream",
     "text": [
      "<class 'str'>\n"
     ]
    }
   ],
   "source": [
    "print(type(x))"
   ]
  },
  {
   "cell_type": "markdown",
   "id": "833bc753",
   "metadata": {},
   "source": [
    "### DEFINING A FUNCTION AND CALLING ONE"
   ]
  },
  {
   "cell_type": "code",
   "execution_count": 9,
   "id": "f7acc53f",
   "metadata": {},
   "outputs": [
    {
     "name": "stdout",
     "output_type": "stream",
     "text": [
      "19\n",
      "100\n"
     ]
    }
   ],
   "source": [
    "c=100\n",
    "def func():\n",
    "    c=19\n",
    "    print(c)\n",
    "\n",
    "func()\n",
    "print(c)\n",
    "\n"
   ]
  },
  {
   "cell_type": "code",
   "execution_count": null,
   "id": "89422b65",
   "metadata": {},
   "outputs": [],
   "source": []
  }
 ],
 "metadata": {
  "kernelspec": {
   "display_name": "Python 3",
   "language": "python",
   "name": "python3"
  },
  "language_info": {
   "codemirror_mode": {
    "name": "ipython",
    "version": 3
   },
   "file_extension": ".py",
   "mimetype": "text/x-python",
   "name": "python",
   "nbconvert_exporter": "python",
   "pygments_lexer": "ipython3",
   "version": "3.8.8"
  }
 },
 "nbformat": 4,
 "nbformat_minor": 5
}
