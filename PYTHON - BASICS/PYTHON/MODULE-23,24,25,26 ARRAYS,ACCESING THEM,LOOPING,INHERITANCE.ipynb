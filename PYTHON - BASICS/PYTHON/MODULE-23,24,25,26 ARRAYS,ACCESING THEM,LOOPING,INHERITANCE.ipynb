{
 "cells": [
  {
   "cell_type": "markdown",
   "id": "bd14dada",
   "metadata": {},
   "source": [
    "# ARRAYS"
   ]
  },
  {
   "cell_type": "markdown",
   "id": "d3af3df8",
   "metadata": {},
   "source": [
    "## arrays and lists"
   ]
  },
  {
   "cell_type": "markdown",
   "id": "93e63d52",
   "metadata": {},
   "source": [
    "#### ARRAYS and LISTS both store their data in the same way\n",
    "#### ARRAYS TAKE SINGLE DATA WHILE LISTS DO NOT\n",
    "#### BOTH DOES OPERATIONS IN THEIR DIFFERENT WAY"
   ]
  },
  {
   "cell_type": "code",
   "execution_count": 8,
   "id": "b1dd012e",
   "metadata": {},
   "outputs": [
    {
     "data": {
      "text/plain": [
       "array('i', [1, 2, 3, 4, 5])"
      ]
     },
     "execution_count": 8,
     "metadata": {},
     "output_type": "execute_result"
    }
   ],
   "source": [
    "import array as arr\n",
    "a=arr.array('i',[1,2,3,4,5])\n",
    "a"
   ]
  },
  {
   "cell_type": "code",
   "execution_count": 14,
   "id": "6fc66631",
   "metadata": {},
   "outputs": [
    {
     "data": {
      "text/plain": [
       "array('i', [5, 5, 6])"
      ]
     },
     "execution_count": 14,
     "metadata": {},
     "output_type": "execute_result"
    }
   ],
   "source": [
    "from array import *\n",
    "a=array('i',[5,5,6])\n",
    "a"
   ]
  },
  {
   "cell_type": "markdown",
   "id": "0ca97242",
   "metadata": {},
   "source": [
    "## ACCESING ARRAYS"
   ]
  },
  {
   "cell_type": "code",
   "execution_count": 15,
   "id": "c466ec2a",
   "metadata": {},
   "outputs": [
    {
     "data": {
      "text/plain": [
       "6"
      ]
     },
     "execution_count": 15,
     "metadata": {},
     "output_type": "execute_result"
    }
   ],
   "source": [
    "a[2]"
   ]
  },
  {
   "cell_type": "code",
   "execution_count": 16,
   "id": "7d335889",
   "metadata": {},
   "outputs": [
    {
     "data": {
      "text/plain": [
       "6"
      ]
     },
     "execution_count": 16,
     "metadata": {},
     "output_type": "execute_result"
    }
   ],
   "source": [
    "a[-1]"
   ]
  },
  {
   "cell_type": "markdown",
   "id": "6d693478",
   "metadata": {},
   "source": [
    "## BASIC ARRAY OPERATIONS"
   ]
  },
  {
   "cell_type": "code",
   "execution_count": 17,
   "id": "b0d0077c",
   "metadata": {},
   "outputs": [
    {
     "data": {
      "text/plain": [
       "3"
      ]
     },
     "execution_count": 17,
     "metadata": {},
     "output_type": "execute_result"
    }
   ],
   "source": [
    "len(a)"
   ]
  },
  {
   "cell_type": "code",
   "execution_count": 20,
   "id": "68bfce89",
   "metadata": {},
   "outputs": [
    {
     "data": {
      "text/plain": [
       "array('i', [5, 5, 6, 2, 2])"
      ]
     },
     "execution_count": 20,
     "metadata": {},
     "output_type": "execute_result"
    }
   ],
   "source": [
    "a.append(2)\n",
    "a"
   ]
  },
  {
   "cell_type": "code",
   "execution_count": 21,
   "id": "f5f666d2",
   "metadata": {},
   "outputs": [
    {
     "data": {
      "text/plain": [
       "5"
      ]
     },
     "execution_count": 21,
     "metadata": {},
     "output_type": "execute_result"
    }
   ],
   "source": [
    "a.pop(1)"
   ]
  },
  {
   "cell_type": "code",
   "execution_count": 37,
   "id": "c0de3e51",
   "metadata": {},
   "outputs": [
    {
     "data": {
      "text/plain": [
       "array('i', [4, 5, 3])"
      ]
     },
     "execution_count": 37,
     "metadata": {},
     "output_type": "execute_result"
    }
   ],
   "source": [
    "from array import *\n",
    "b=array('i',[4,5,3])\n",
    "b"
   ]
  },
  {
   "cell_type": "code",
   "execution_count": 38,
   "id": "f1f99e96",
   "metadata": {},
   "outputs": [
    {
     "data": {
      "text/plain": [
       "array('i', [1, 2, 3, 4, 5, 4, 5, 3])"
      ]
     },
     "execution_count": 38,
     "metadata": {},
     "output_type": "execute_result"
    }
   ],
   "source": [
    "import array as arr\n",
    "a=arr.array('i',[1,2,3,4,5])\n",
    "b=arr.array('i',[4,5,3])\n",
    "c=arr.array('i')\n",
    "c=a+b\n",
    "c\n"
   ]
  },
  {
   "cell_type": "code",
   "execution_count": 39,
   "id": "19e2ae74",
   "metadata": {},
   "outputs": [
    {
     "data": {
      "text/plain": [
       "array('i', [1, 2, 3, 4, 5])"
      ]
     },
     "execution_count": 39,
     "metadata": {},
     "output_type": "execute_result"
    }
   ],
   "source": [
    "c[0:-3]"
   ]
  },
  {
   "cell_type": "code",
   "execution_count": 40,
   "id": "b97ba7e5",
   "metadata": {},
   "outputs": [
    {
     "name": "stdout",
     "output_type": "stream",
     "text": [
      "1\n",
      "2\n",
      "3\n",
      "4\n",
      "5\n"
     ]
    }
   ],
   "source": [
    "for x in a:\n",
    "    print(x)"
   ]
  },
  {
   "cell_type": "code",
   "execution_count": 42,
   "id": "d3f5602d",
   "metadata": {},
   "outputs": [
    {
     "name": "stdout",
     "output_type": "stream",
     "text": [
      "4\n",
      "5\n",
      "3\n"
     ]
    }
   ],
   "source": [
    "for x in b:\n",
    "    print(x)"
   ]
  },
  {
   "cell_type": "markdown",
   "id": "caba257c",
   "metadata": {},
   "source": [
    "###  LOOPING THROUGH AN ARRAY"
   ]
  },
  {
   "cell_type": "code",
   "execution_count": 49,
   "id": "250c1775",
   "metadata": {},
   "outputs": [
    {
     "name": "stdout",
     "output_type": "stream",
     "text": [
      "1\n",
      "2\n",
      "3\n",
      "4\n",
      "5\n"
     ]
    }
   ],
   "source": [
    "import array as arr\n",
    "a=arr.array('i',[1,2,3,4,5])\n",
    "b=0\n",
    "\n",
    "while b <len(a):\n",
    "    print(a[b])\n",
    "    b=b+1"
   ]
  },
  {
   "cell_type": "code",
   "execution_count": 53,
   "id": "f50f12fb",
   "metadata": {},
   "outputs": [
    {
     "data": {
      "text/plain": [
       "array('i', [1, 2, 3, 4, 5])"
      ]
     },
     "execution_count": 53,
     "metadata": {},
     "output_type": "execute_result"
    }
   ],
   "source": [
    "a\n"
   ]
  },
  {
   "cell_type": "code",
   "execution_count": 54,
   "id": "8b6dc9d3",
   "metadata": {},
   "outputs": [
    {
     "name": "stdout",
     "output_type": "stream",
     "text": [
      "1\n",
      "2\n",
      "3\n",
      "4\n",
      "5\n"
     ]
    }
   ],
   "source": [
    "for x in a:\n",
    "    print(x)"
   ]
  },
  {
   "cell_type": "markdown",
   "id": "cd3914f4",
   "metadata": {},
   "source": [
    "## INHERITANCE"
   ]
  },
  {
   "cell_type": "markdown",
   "id": "273081c1",
   "metadata": {},
   "source": [
    "#### BSICALLLY PASSING ON THE INFORMATION OR TREND FROM ONE CLASS TO ANOTHER SAY HOW PARENT AND THEIR CHILD SHARE COMMON TRAITS,GENES,DNA\n",
    "#### ITS RESUABILITY,TIME SAVING EFFICIENCY"
   ]
  },
  {
   "cell_type": "code",
   "execution_count": 55,
   "id": "6245e8a6",
   "metadata": {},
   "outputs": [
    {
     "name": "stdout",
     "output_type": "stream",
     "text": [
      "haoljjdnd\n",
      "njnfsushcnkfucknjssfycge\n"
     ]
    }
   ],
   "source": [
    "class parent:\n",
    "    def funv1(self):\n",
    "        print(\"haoljjdnd\")\n",
    "        \n",
    "class child(parent):\n",
    "    def func1(self):\n",
    "        print(\"njnfsushcnkfucknjssfycge\")\n",
    "\n",
    "onj1=child()\n",
    "onj1.funv1()\n",
    "onj1.func1()\n"
   ]
  },
  {
   "cell_type": "code",
   "execution_count": null,
   "id": "d146e4c7",
   "metadata": {},
   "outputs": [],
   "source": []
  }
 ],
 "metadata": {
  "kernelspec": {
   "display_name": "Python 3",
   "language": "python",
   "name": "python3"
  },
  "language_info": {
   "codemirror_mode": {
    "name": "ipython",
    "version": 3
   },
   "file_extension": ".py",
   "mimetype": "text/x-python",
   "name": "python",
   "nbconvert_exporter": "python",
   "pygments_lexer": "ipython3",
   "version": "3.8.8"
  }
 },
 "nbformat": 4,
 "nbformat_minor": 5
}
