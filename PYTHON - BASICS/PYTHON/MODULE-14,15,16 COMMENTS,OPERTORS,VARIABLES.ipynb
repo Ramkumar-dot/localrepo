{
 "cells": [
  {
   "cell_type": "markdown",
   "id": "1783108c",
   "metadata": {},
   "source": [
    "# COMMENTS"
   ]
  },
  {
   "cell_type": "markdown",
   "id": "02ec2acf",
   "metadata": {},
   "source": [
    "## HOW TO USE COMMENTS\n",
    "### DESCRIBE WHAT A CODE BLOCK MEANS\n",
    "### PROGRAMER COHERENT STATEMENT"
   ]
  },
  {
   "cell_type": "markdown",
   "id": "d9add19c",
   "metadata": {},
   "source": [
    "## HOW TO WRITE COMMENTS IN PYTHON\n"
   ]
  },
  {
   "cell_type": "code",
   "execution_count": 1,
   "id": "7d5c39d7",
   "metadata": {},
   "outputs": [
    {
     "name": "stdout",
     "output_type": "stream",
     "text": [
      "comments start with a #\n"
     ]
    }
   ],
   "source": [
    "print(\"comments start with a #\")"
   ]
  },
  {
   "cell_type": "code",
   "execution_count": 2,
   "id": "b4cb110a",
   "metadata": {},
   "outputs": [
    {
     "data": {
      "text/plain": [
       "' \\nthis will be omitted\\n'"
      ]
     },
     "execution_count": 2,
     "metadata": {},
     "output_type": "execute_result"
    }
   ],
   "source": [
    "\"\"\" \n",
    "this will be omitted\n",
    "\"\"\""
   ]
  },
  {
   "cell_type": "markdown",
   "id": "0c111734",
   "metadata": {},
   "source": [
    "# OPERATORS\n",
    "## TO PERFORM OPERATIONS BETWEEN VARIABLES"
   ]
  },
  {
   "cell_type": "markdown",
   "id": "073f4bb4",
   "metadata": {},
   "source": [
    "# VARIABLES AND DATA TYPES"
   ]
  },
  {
   "cell_type": "code",
   "execution_count": 3,
   "id": "8b9cc3c8",
   "metadata": {},
   "outputs": [],
   "source": [
    "x=10"
   ]
  },
  {
   "cell_type": "code",
   "execution_count": 5,
   "id": "7687b9e0",
   "metadata": {},
   "outputs": [
    {
     "name": "stdout",
     "output_type": "stream",
     "text": [
      "20\n"
     ]
    }
   ],
   "source": [
    "x=20\n",
    "print(x)"
   ]
  },
  {
   "cell_type": "code",
   "execution_count": 6,
   "id": "182734ec",
   "metadata": {},
   "outputs": [],
   "source": [
    "num=5>6\n",
    "name='anvika'"
   ]
  },
  {
   "cell_type": "code",
   "execution_count": 7,
   "id": "d814872b",
   "metadata": {},
   "outputs": [
    {
     "name": "stdout",
     "output_type": "stream",
     "text": [
      "False anvika\n"
     ]
    }
   ],
   "source": [
    "print(num,name)"
   ]
  },
  {
   "cell_type": "code",
   "execution_count": 8,
   "id": "a292135c",
   "metadata": {},
   "outputs": [
    {
     "data": {
      "text/plain": [
       "[1, 2, 34, 99]"
      ]
     },
     "execution_count": 8,
     "metadata": {},
     "output_type": "execute_result"
    }
   ],
   "source": [
    "mylist=[1,2,34,99]\n",
    "mylist"
   ]
  },
  {
   "cell_type": "code",
   "execution_count": 12,
   "id": "be4f12be",
   "metadata": {},
   "outputs": [
    {
     "data": {
      "text/plain": [
       "{'1': 'anvika', '2': 'aroel'}"
      ]
     },
     "execution_count": 12,
     "metadata": {},
     "output_type": "execute_result"
    }
   ],
   "source": [
    "mydictionary={'1':'anvika','2':'aroel'}\n",
    "mydictionary"
   ]
  },
  {
   "cell_type": "code",
   "execution_count": 13,
   "id": "001d5d5a",
   "metadata": {},
   "outputs": [
    {
     "data": {
      "text/plain": [
       "{1, 2, 3}"
      ]
     },
     "execution_count": 13,
     "metadata": {},
     "output_type": "execute_result"
    }
   ],
   "source": [
    "myset={1,2,3}\n",
    "myset"
   ]
  },
  {
   "cell_type": "code",
   "execution_count": 14,
   "id": "39b11e65",
   "metadata": {},
   "outputs": [
    {
     "data": {
      "text/plain": [
       "(1, 2, 3, 4)"
      ]
     },
     "execution_count": 14,
     "metadata": {},
     "output_type": "execute_result"
    }
   ],
   "source": [
    "mytuple=(1,2,3,4)\n",
    "mytuple"
   ]
  },
  {
   "cell_type": "markdown",
   "id": "8af89cb9",
   "metadata": {},
   "source": [
    "## types of operators\n",
    "### assignment operator"
   ]
  },
  {
   "cell_type": "code",
   "execution_count": 16,
   "id": "f5066454",
   "metadata": {},
   "outputs": [
    {
     "name": "stdout",
     "output_type": "stream",
     "text": [
      "1\n"
     ]
    }
   ],
   "source": [
    "a=1\n",
    "print(a)"
   ]
  },
  {
   "cell_type": "markdown",
   "id": "8a141a7c",
   "metadata": {},
   "source": [
    "### arithmetic operator"
   ]
  },
  {
   "cell_type": "code",
   "execution_count": 17,
   "id": "64e7c0f6",
   "metadata": {},
   "outputs": [
    {
     "name": "stdout",
     "output_type": "stream",
     "text": [
      "2\n"
     ]
    }
   ],
   "source": [
    "b=1\n",
    "b+=a\n",
    "print(b)"
   ]
  },
  {
   "cell_type": "markdown",
   "id": "e2f41410",
   "metadata": {},
   "source": [
    "### COMPARISON OPERATOR"
   ]
  },
  {
   "cell_type": "code",
   "execution_count": 18,
   "id": "1827cfa7",
   "metadata": {},
   "outputs": [
    {
     "name": "stdout",
     "output_type": "stream",
     "text": [
      "1\n"
     ]
    }
   ],
   "source": [
    "a==b\n",
    "print(a)"
   ]
  },
  {
   "cell_type": "markdown",
   "id": "19fff7e1",
   "metadata": {},
   "source": [
    "###  LOGICAL OPERATOR"
   ]
  },
  {
   "cell_type": "code",
   "execution_count": 22,
   "id": "f59fdaa0",
   "metadata": {},
   "outputs": [
    {
     "data": {
      "text/plain": [
       "0"
      ]
     },
     "execution_count": 22,
     "metadata": {},
     "output_type": "execute_result"
    }
   ],
   "source": [
    "a&b\n"
   ]
  },
  {
   "cell_type": "markdown",
   "id": "73383597",
   "metadata": {},
   "source": [
    "### identity"
   ]
  },
  {
   "cell_type": "code",
   "execution_count": 25,
   "id": "4e94f3c4",
   "metadata": {},
   "outputs": [
    {
     "data": {
      "text/plain": [
       "False"
      ]
     },
     "execution_count": 25,
     "metadata": {},
     "output_type": "execute_result"
    }
   ],
   "source": [
    "a=8\n",
    "b=9\n",
    "a is b"
   ]
  },
  {
   "cell_type": "markdown",
   "id": "2e663b73",
   "metadata": {},
   "source": [
    "### MEMBERSHIP OPERATOR"
   ]
  },
  {
   "cell_type": "code",
   "execution_count": 26,
   "id": "80dd884e",
   "metadata": {},
   "outputs": [
    {
     "name": "stdout",
     "output_type": "stream",
     "text": [
      "False\n"
     ]
    }
   ],
   "source": [
    "list1=(10,20,30)\n",
    "list2=(10,0,30)\n",
    "print(list1 in list2)"
   ]
  },
  {
   "cell_type": "markdown",
   "id": "f44ccc1c",
   "metadata": {},
   "source": [
    "### BITWISE OPERATOR"
   ]
  },
  {
   "cell_type": "code",
   "execution_count": 27,
   "id": "5a0df76e",
   "metadata": {},
   "outputs": [
    {
     "data": {
      "text/plain": [
       "13"
      ]
     },
     "execution_count": 27,
     "metadata": {},
     "output_type": "execute_result"
    }
   ],
   "source": [
    "a=10\n",
    "b=7\n",
    "a^b"
   ]
  },
  {
   "cell_type": "code",
   "execution_count": 28,
   "id": "a382de30",
   "metadata": {},
   "outputs": [
    {
     "data": {
      "text/plain": [
       "-11"
      ]
     },
     "execution_count": 28,
     "metadata": {},
     "output_type": "execute_result"
    }
   ],
   "source": [
    "~a"
   ]
  },
  {
   "cell_type": "code",
   "execution_count": 30,
   "id": "fdcbaa9e",
   "metadata": {},
   "outputs": [
    {
     "data": {
      "text/plain": [
       "0"
      ]
     },
     "execution_count": 30,
     "metadata": {},
     "output_type": "execute_result"
    }
   ],
   "source": [
    "b>>a"
   ]
  },
  {
   "cell_type": "code",
   "execution_count": null,
   "id": "4bbdc6c6",
   "metadata": {},
   "outputs": [],
   "source": []
  }
 ],
 "metadata": {
  "kernelspec": {
   "display_name": "Python 3",
   "language": "python",
   "name": "python3"
  },
  "language_info": {
   "codemirror_mode": {
    "name": "ipython",
    "version": 3
   },
   "file_extension": ".py",
   "mimetype": "text/x-python",
   "name": "python",
   "nbconvert_exporter": "python",
   "pygments_lexer": "ipython3",
   "version": "3.8.8"
  }
 },
 "nbformat": 4,
 "nbformat_minor": 5
}
