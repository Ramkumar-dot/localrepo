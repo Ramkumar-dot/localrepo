{
 "cells": [
  {
   "cell_type": "markdown",
   "id": "57e1ae48",
   "metadata": {},
   "source": [
    "# DATA STRUCTURES\n",
    "\n",
    "## BUILT IN FUNCTIONS\n",
    "\n",
    "### LISTS"
   ]
  },
  {
   "cell_type": "code",
   "execution_count": 1,
   "id": "4109a168",
   "metadata": {},
   "outputs": [
    {
     "name": "stdout",
     "output_type": "stream",
     "text": [
      "[1, 2, 3, 4]\n",
      "[1, 2, 3, 4, 3]\n",
      "[1, 9, 3, 3]\n"
     ]
    }
   ],
   "source": [
    "a=[1,2,3,4]\n",
    "print(a)\n",
    "a.append(3)\n",
    "print(a)\n",
    "a.pop(3)\n",
    "a[1]=9\n",
    "print(a)"
   ]
  },
  {
   "cell_type": "markdown",
   "id": "87839cd8",
   "metadata": {},
   "source": [
    "### DICTIONARY\n"
   ]
  },
  {
   "cell_type": "code",
   "execution_count": 2,
   "id": "0f9af1d8",
   "metadata": {},
   "outputs": [
    {
     "name": "stdout",
     "output_type": "stream",
     "text": [
      "{1: 'hello', 2: 'vanakam'}\n",
      "{2: 'vanakam'}\n",
      "{2: 'vanakam', 1: 3}\n"
     ]
    }
   ],
   "source": [
    "a=dict({1:\"hello\",2:\"vanakam\"})\n",
    "print(a)\n",
    "a.pop(1)\n",
    "print(a)\n",
    "a[1]=3\n",
    "print(a)"
   ]
  },
  {
   "cell_type": "markdown",
   "id": "ed7dc3ff",
   "metadata": {},
   "source": [
    "### TUPLES"
   ]
  },
  {
   "cell_type": "code",
   "execution_count": 3,
   "id": "88fdf3ad",
   "metadata": {},
   "outputs": [
    {
     "name": "stdout",
     "output_type": "stream",
     "text": [
      "(1, 2, 3, 4, 5)\n",
      "(3, 4, 5, 6)\n"
     ]
    }
   ],
   "source": [
    "z=(1,2,3,4,5)\n",
    "y=tuple((3,4,5,6))\n",
    "print(z)\n",
    "print(y)\n"
   ]
  },
  {
   "cell_type": "markdown",
   "id": "12869efa",
   "metadata": {},
   "source": [
    "### SETS"
   ]
  },
  {
   "cell_type": "code",
   "execution_count": 4,
   "id": "9eebbe4d",
   "metadata": {},
   "outputs": [
    {
     "name": "stdout",
     "output_type": "stream",
     "text": [
      "{1, 2, 3, 4, 5} {4, 6, 7, 54, 90}\n",
      "{4}\n"
     ]
    }
   ],
   "source": [
    "r={1,2,3,4,5}\n",
    "u={6,7,4,54,90}\n",
    "print(r,u)\n",
    "b=r.intersection(u)\n",
    "print(b)\n"
   ]
  },
  {
   "cell_type": "markdown",
   "id": "7073a301",
   "metadata": {},
   "source": [
    "## USER DEFINED FUNCTIONS"
   ]
  },
  {
   "cell_type": "markdown",
   "id": "cc6fc911",
   "metadata": {},
   "source": [
    "### STACK"
   ]
  },
  {
   "cell_type": "markdown",
   "id": "3525a3c1",
   "metadata": {},
   "source": [
    "#### THEY FOLLOW LAST IN FIRST OUT. EXAMPLE FILLING WATER BOTTLE AND THE FIRST SIP WE TAKE IS THE LASTLY FILLED .\n",
    "\n",
    "### QUEUE\n",
    "#### THEY FOLLOW FIRST IN FIRST OUT. FOR A DOCTOR'S APPOINTMENT THE FIRST COMES GETS TO SEE THE DOCTOR FIRST.\n",
    "\n",
    "### LINKED LIST"
   ]
  },
  {
   "cell_type": "markdown",
   "id": "d2fc4404",
   "metadata": {},
   "source": [
    "####  IT HAS A NODE WHICH CONTAINS THE HEAD PART FULL OF DATA AND THE TAIL PART DRAWS A PATH TO THE FOLLOWING NODE.\n",
    "\n",
    "### TREES\n",
    "\n",
    "#### THEY REPRESENT THE HIERACHY OF A DATA. THA LAST NODES ARE THEIR GRANDCHILDREN AND NEXT TO THEM ARE CHILDREN AND THEN THE PARENT.\n",
    "\n",
    "### GRAPHS\n",
    "#### REPRESENTS THE GEOGRAPHICAL LOACATION FROM THE ANALYSED DATA."
   ]
  },
  {
   "cell_type": "code",
   "execution_count": null,
   "id": "6deddc1c",
   "metadata": {},
   "outputs": [],
   "source": []
  }
 ],
 "metadata": {
  "kernelspec": {
   "display_name": "Python 3",
   "language": "python",
   "name": "python3"
  },
  "language_info": {
   "codemirror_mode": {
    "name": "ipython",
    "version": 3
   },
   "file_extension": ".py",
   "mimetype": "text/x-python",
   "name": "python",
   "nbconvert_exporter": "python",
   "pygments_lexer": "ipython3",
   "version": "3.8.8"
  }
 },
 "nbformat": 4,
 "nbformat_minor": 5
}
