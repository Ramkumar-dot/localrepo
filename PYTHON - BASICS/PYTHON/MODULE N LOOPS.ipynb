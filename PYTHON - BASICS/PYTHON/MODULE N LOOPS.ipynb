{
 "cells": [
  {
   "cell_type": "markdown",
   "id": "289b2df9",
   "metadata": {},
   "source": [
    "# LOOPS"
   ]
  },
  {
   "cell_type": "markdown",
   "id": "366ea6ba",
   "metadata": {},
   "source": [
    "## WHILE "
   ]
  },
  {
   "cell_type": "code",
   "execution_count": 2,
   "id": "12872bfb",
   "metadata": {},
   "outputs": [
    {
     "name": "stdout",
     "output_type": "stream",
     "text": [
      "0\n",
      "1\n",
      "2\n",
      "3\n",
      "4\n",
      "good bye\n"
     ]
    }
   ],
   "source": [
    "x=5\n",
    "a=0\n",
    "while a<x:\n",
    "    print(a)\n",
    "    a=a+1\n",
    "\n",
    "print(\"good bye\")"
   ]
  },
  {
   "cell_type": "markdown",
   "id": "2f222f88",
   "metadata": {},
   "source": [
    "## FOR"
   ]
  },
  {
   "cell_type": "code",
   "execution_count": 3,
   "id": "6afc1380",
   "metadata": {},
   "outputs": [
    {
     "name": "stdout",
     "output_type": "stream",
     "text": [
      "apple\n",
      "grapes\n",
      "orange\n",
      "good bye\n"
     ]
    }
   ],
   "source": [
    "fruits=[\"apple\",\"grapes\",\"orange\"]\n",
    "for pazham in fruits:\n",
    "    print(pazham)\n",
    "\n",
    "print(\"good bye\")"
   ]
  },
  {
   "cell_type": "markdown",
   "id": "f9fe94b0",
   "metadata": {},
   "source": [
    "## NESTED"
   ]
  },
  {
   "cell_type": "code",
   "execution_count": null,
   "id": "f8ab2d35",
   "metadata": {},
   "outputs": [],
   "source": [
    "print(\"welcome to DFSB BANK\")\n",
    "restart('Y')\n",
    "chances=3\n",
    "Balance=9800\n",
    "while chances<3\n",
    "pin=int(input(\"enter the pin\"))\n",
    "if pin ==2032 :"
   ]
  }
 ],
 "metadata": {
  "kernelspec": {
   "display_name": "Python 3",
   "language": "python",
   "name": "python3"
  },
  "language_info": {
   "codemirror_mode": {
    "name": "ipython",
    "version": 3
   },
   "file_extension": ".py",
   "mimetype": "text/x-python",
   "name": "python",
   "nbconvert_exporter": "python",
   "pygments_lexer": "ipython3",
   "version": "3.8.8"
  }
 },
 "nbformat": 4,
 "nbformat_minor": 5
}
