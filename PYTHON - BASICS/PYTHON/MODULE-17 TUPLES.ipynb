{
 "cells": [
  {
   "cell_type": "markdown",
   "id": "1a2f5b6e",
   "metadata": {},
   "source": [
    "# TUPLES"
   ]
  },
  {
   "cell_type": "code",
   "execution_count": 1,
   "id": "966db5ec",
   "metadata": {},
   "outputs": [
    {
     "name": "stdout",
     "output_type": "stream",
     "text": [
      "(1, 2, 3, 4, 5)\n",
      "(4, 5, 6, 7)\n"
     ]
    }
   ],
   "source": [
    "a=(1,2,3,4,5)\n",
    "print(a)\n",
    "b=4,5,6,7\n",
    "print(b)"
   ]
  },
  {
   "cell_type": "code",
   "execution_count": 2,
   "id": "8915a42c",
   "metadata": {},
   "outputs": [
    {
     "name": "stdout",
     "output_type": "stream",
     "text": [
      "2\n"
     ]
    }
   ],
   "source": [
    "print(a[1])"
   ]
  },
  {
   "cell_type": "code",
   "execution_count": 3,
   "id": "4a704f19",
   "metadata": {},
   "outputs": [
    {
     "name": "stdout",
     "output_type": "stream",
     "text": [
      "7\n"
     ]
    }
   ],
   "source": [
    "print(b[-1])"
   ]
  },
  {
   "cell_type": "markdown",
   "id": "fe4f4bf9",
   "metadata": {},
   "source": [
    "### chnaging"
   ]
  },
  {
   "cell_type": "code",
   "execution_count": 7,
   "id": "b426e4a5",
   "metadata": {},
   "outputs": [
    {
     "name": "stdout",
     "output_type": "stream",
     "text": [
      "(1, 2, 3, 4, [34, 98, 78])\n"
     ]
    }
   ],
   "source": [
    "a=(1,2,3,4,[34,56,78])\n",
    "a[4][1]=98\n",
    "print(a)"
   ]
  },
  {
   "cell_type": "markdown",
   "id": "5334d563",
   "metadata": {},
   "source": [
    "### CONCATINATION"
   ]
  },
  {
   "cell_type": "code",
   "execution_count": 8,
   "id": "c007cbe3",
   "metadata": {},
   "outputs": [],
   "source": [
    "c=a+b"
   ]
  },
  {
   "cell_type": "code",
   "execution_count": 9,
   "id": "e906801c",
   "metadata": {},
   "outputs": [
    {
     "name": "stdout",
     "output_type": "stream",
     "text": [
      "(1, 2, 3, 4, [34, 98, 78], 4, 5, 6, 7)\n"
     ]
    }
   ],
   "source": [
    "print(c)"
   ]
  },
  {
   "cell_type": "markdown",
   "id": "af5ca100",
   "metadata": {},
   "source": [
    "### deletion"
   ]
  },
  {
   "cell_type": "code",
   "execution_count": 10,
   "id": "8e3fee87",
   "metadata": {},
   "outputs": [
    {
     "ename": "NameError",
     "evalue": "name 'a' is not defined",
     "output_type": "error",
     "traceback": [
      "\u001b[1;31m---------------------------------------------------------------------------\u001b[0m",
      "\u001b[1;31mNameError\u001b[0m                                 Traceback (most recent call last)",
      "\u001b[1;32m<ipython-input-10-c342333e421e>\u001b[0m in \u001b[0;36m<module>\u001b[1;34m\u001b[0m\n\u001b[0;32m      1\u001b[0m \u001b[1;32mdel\u001b[0m \u001b[0ma\u001b[0m\u001b[1;33m\u001b[0m\u001b[1;33m\u001b[0m\u001b[0m\n\u001b[1;32m----> 2\u001b[1;33m \u001b[0mprint\u001b[0m\u001b[1;33m(\u001b[0m\u001b[0ma\u001b[0m\u001b[1;33m)\u001b[0m\u001b[1;33m\u001b[0m\u001b[1;33m\u001b[0m\u001b[0m\n\u001b[0m",
      "\u001b[1;31mNameError\u001b[0m: name 'a' is not defined"
     ]
    }
   ],
   "source": [
    "del a\n",
    "print(a)"
   ]
  },
  {
   "cell_type": "markdown",
   "id": "a2022c9b",
   "metadata": {},
   "source": [
    "### COUNT AND LENGTH"
   ]
  },
  {
   "cell_type": "code",
   "execution_count": 13,
   "id": "f636ef5f",
   "metadata": {},
   "outputs": [
    {
     "data": {
      "text/plain": [
       "1"
      ]
     },
     "execution_count": 13,
     "metadata": {},
     "output_type": "execute_result"
    }
   ],
   "source": [
    "c.count(1)"
   ]
  },
  {
   "cell_type": "code",
   "execution_count": 16,
   "id": "21feb4ed",
   "metadata": {},
   "outputs": [
    {
     "data": {
      "text/plain": [
       "0"
      ]
     },
     "execution_count": 16,
     "metadata": {},
     "output_type": "execute_result"
    }
   ],
   "source": [
    "b.index(4)"
   ]
  },
  {
   "cell_type": "markdown",
   "id": "b390503c",
   "metadata": {},
   "source": [
    "### LIST VS TUPLE"
   ]
  },
  {
   "cell_type": "markdown",
   "id": "662ac20f",
   "metadata": {},
   "source": [
    "### list has homogenous data types while tuple has hetrogenous datas within it.\n",
    "### lists are mutable while tuples are not\n",
    "### lists does not gauranteen written code while tuples does"
   ]
  },
  {
   "cell_type": "markdown",
   "id": "b0316f71",
   "metadata": {},
   "source": [
    "## TUPLE CONSTRUTOR"
   ]
  },
  {
   "cell_type": "code",
   "execution_count": 18,
   "id": "eccf5822",
   "metadata": {},
   "outputs": [
    {
     "name": "stdout",
     "output_type": "stream",
     "text": [
      "(1, 2, 3, 4)\n"
     ]
    }
   ],
   "source": [
    "a=[1,2,3,4]\n",
    "b=tuple(a)\n",
    "print(b)"
   ]
  },
  {
   "cell_type": "code",
   "execution_count": 19,
   "id": "cb63f7cc",
   "metadata": {},
   "outputs": [
    {
     "name": "stdout",
     "output_type": "stream",
     "text": [
      "1\n",
      "2\n",
      "3\n",
      "4\n"
     ]
    }
   ],
   "source": [
    "for i in a:\n",
    "    print(i)\n",
    "    "
   ]
  },
  {
   "cell_type": "code",
   "execution_count": 20,
   "id": "904f0ade",
   "metadata": {},
   "outputs": [
    {
     "name": "stdout",
     "output_type": "stream",
     "text": [
      "False\n"
     ]
    }
   ],
   "source": [
    "print(a in a)"
   ]
  },
  {
   "cell_type": "code",
   "execution_count": 21,
   "id": "698007c9",
   "metadata": {},
   "outputs": [
    {
     "name": "stdout",
     "output_type": "stream",
     "text": [
      "False\n"
     ]
    }
   ],
   "source": [
    "print(b in a)"
   ]
  },
  {
   "cell_type": "code",
   "execution_count": null,
   "id": "bf9ad10e",
   "metadata": {},
   "outputs": [],
   "source": []
  }
 ],
 "metadata": {
  "kernelspec": {
   "display_name": "Python 3",
   "language": "python",
   "name": "python3"
  },
  "language_info": {
   "codemirror_mode": {
    "name": "ipython",
    "version": 3
   },
   "file_extension": ".py",
   "mimetype": "text/x-python",
   "name": "python",
   "nbconvert_exporter": "python",
   "pygments_lexer": "ipython3",
   "version": "3.8.8"
  }
 },
 "nbformat": 4,
 "nbformat_minor": 5
}
