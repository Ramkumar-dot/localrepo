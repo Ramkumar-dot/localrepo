{
 "cells": [
  {
   "cell_type": "markdown",
   "id": "5dbf8ab0",
   "metadata": {},
   "source": [
    "# init function"
   ]
  },
  {
   "cell_type": "code",
   "execution_count": 1,
   "id": "278fe851",
   "metadata": {},
   "outputs": [
    {
     "name": "stdout",
     "output_type": "stream",
     "text": [
      "uyg 23 google\n"
     ]
    }
   ],
   "source": [
    "class parent:\n",
    "    def __init__(self,fname,fage):\n",
    "        self.name=fname\n",
    "        self.age=fage\n",
    "        \n",
    "    def view(self):\n",
    "        print(self.name,self.age)\n",
    "        \n",
    "class child(parent):\n",
    "    def __init__(self,fname,fage):\n",
    "        parent.__init__(self,fname,fage)\n",
    "        self.lastname=\"google\"\n",
    "    def view(self):\n",
    "        print(self.age,self.name,self.lastname)\n",
    "        \n",
    "ob=child(23,\"uyg\")\n",
    "ob.view()"
   ]
  },
  {
   "cell_type": "markdown",
   "id": "e5926bfa",
   "metadata": {},
   "source": [
    "# TYPES OF INHERITANCE"
   ]
  },
  {
   "cell_type": "markdown",
   "id": "d62eea83",
   "metadata": {},
   "source": [
    "## SINGLE LEVEL INHERITANCE"
   ]
  },
  {
   "cell_type": "markdown",
   "id": "944e31f0",
   "metadata": {},
   "source": [
    "### this inheritance follows one to one transfering of data\n",
    "\n",
    "## multiple inheritance\n",
    "### this inheritance include data from more than one parent\n",
    "\n",
    "## multilevel inheritance\n",
    "### this is where it includes 3 generation of data passing that s from grandparent to parent to child\n",
    "\n",
    "## hierachicel inheritance include \n",
    "### contains different inheritance "
   ]
  },
  {
   "cell_type": "code",
   "execution_count": null,
   "id": "b30a8001",
   "metadata": {},
   "outputs": [],
   "source": []
  }
 ],
 "metadata": {
  "kernelspec": {
   "display_name": "Python 3",
   "language": "python",
   "name": "python3"
  },
  "language_info": {
   "codemirror_mode": {
    "name": "ipython",
    "version": 3
   },
   "file_extension": ".py",
   "mimetype": "text/x-python",
   "name": "python",
   "nbconvert_exporter": "python",
   "pygments_lexer": "ipython3",
   "version": "3.8.8"
  }
 },
 "nbformat": 4,
 "nbformat_minor": 5
}
