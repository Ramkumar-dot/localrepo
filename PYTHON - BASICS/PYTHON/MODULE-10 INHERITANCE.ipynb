{
 "cells": [
  {
   "cell_type": "markdown",
   "id": "358b0511",
   "metadata": {},
   "source": [
    "# INHERITANCE\n",
    "\n",
    "## SINGLE"
   ]
  },
  {
   "cell_type": "code",
   "execution_count": 1,
   "id": "ebf3cb64",
   "metadata": {},
   "outputs": [
    {
     "name": "stdout",
     "output_type": "stream",
     "text": [
      "ha ha ha \n",
      "ha\n",
      "ha ha ha \n"
     ]
    }
   ],
   "source": [
    "class parent():\n",
    "    def func1(self):\n",
    "        print(\"ha\")\n",
    "class child(parent):\n",
    "    def func2(self):\n",
    "        print(\"ha ha ha \");\n",
    "        \n",
    "obj1=child()\n",
    "obj1.func2()\n",
    "obj1.func1()\n",
    "obj1.func2()\n"
   ]
  },
  {
   "cell_type": "markdown",
   "id": "8bfe2bdc",
   "metadata": {},
   "source": [
    "## MULTIPLE INHERITANCE"
   ]
  },
  {
   "cell_type": "code",
   "execution_count": 2,
   "id": "c7c2bae1",
   "metadata": {},
   "outputs": [
    {
     "name": "stdout",
     "output_type": "stream",
     "text": [
      "1\n",
      "2 \n",
      "3\n"
     ]
    }
   ],
   "source": [
    "class parent1():\n",
    "    def func1(self):\n",
    "        print(\"1\")\n",
    "        \n",
    "class parent2():\n",
    "    def func2(self):\n",
    "        print(\"2 \")\n",
    "        \n",
    "class child(parent1,parent2):\n",
    "    def func3(self):\n",
    "        print(\"3\")\n",
    "        \n",
    "obj1=child()\n",
    "obj1.func1()\n",
    "obj1.func2()\n",
    "obj1.func3()\n"
   ]
  },
  {
   "cell_type": "markdown",
   "id": "27601775",
   "metadata": {},
   "source": [
    "## MULTILEVEL INHERITANCE"
   ]
  },
  {
   "cell_type": "code",
   "execution_count": 4,
   "id": "801bb6e3",
   "metadata": {},
   "outputs": [
    {
     "name": "stdout",
     "output_type": "stream",
     "text": [
      "1st generation\n",
      "2nd generation \n",
      "3rd generation\n"
     ]
    }
   ],
   "source": [
    "\n",
    "\n",
    "\n",
    "\n",
    "class parent1():\n",
    "    def func1(self):\n",
    "        print(\"1st generation\")\n",
    "        \n",
    "class parent2(parent1):\n",
    "    def func2(self):\n",
    "        print(\"2nd generation \")\n",
    "        \n",
    "class child(parent2):\n",
    "    def func3(self):\n",
    "        print(\"3rd generation\")\n",
    "        \n",
    "obj1=child()\n",
    "obj1.func1()\n",
    "obj1.func2()\n",
    "obj1.func3()\n"
   ]
  },
  {
   "cell_type": "markdown",
   "id": "39be2d6b",
   "metadata": {},
   "source": [
    "## HYRARCIAL"
   ]
  },
  {
   "cell_type": "code",
   "execution_count": 5,
   "id": "14f51652",
   "metadata": {},
   "outputs": [
    {
     "name": "stdout",
     "output_type": "stream",
     "text": [
      "1st generation\n",
      "2nd generation \n",
      "2nd generation\n"
     ]
    }
   ],
   "source": [
    "\n",
    "class parent1():\n",
    "    def func1(self):\n",
    "        print(\"1st generation\")\n",
    "        \n",
    "class child1(parent1):\n",
    "    def func2(self):\n",
    "        print(\"2nd generation \")\n",
    "        \n",
    "class child2(parent1):\n",
    "    def func3(self):\n",
    "        print(\"2nd generation\")\n",
    "        \n",
    "obj1=child1()\n",
    "obj1.func1()\n",
    "obj1.func2()\n",
    "obj2=child2()\n",
    "obj2.func3()\n"
   ]
  },
  {
   "cell_type": "markdown",
   "id": "0c7dabad",
   "metadata": {},
   "source": [
    "## HYBRID"
   ]
  },
  {
   "cell_type": "code",
   "execution_count": 8,
   "id": "abdd0dc4",
   "metadata": {},
   "outputs": [
    {
     "name": "stdout",
     "output_type": "stream",
     "text": [
      "1st generation\n",
      "2nd generation \n",
      "generation\n"
     ]
    }
   ],
   "source": [
    "\n",
    "class parent1():\n",
    "    def func1(self):\n",
    "        print(\"1st generation\")\n",
    "        \n",
    "class child1():\n",
    "    def func2(self):\n",
    "        print(\"2nd generation \")\n",
    "        \n",
    "class child2(parent1,child1):\n",
    "    def func3(self):\n",
    "        print(\"generation\")\n",
    "        \n",
    "obj1=child2()\n",
    "obj1.func1()\n",
    "obj1.func2()\n",
    "\n",
    "obj1.func3()"
   ]
  },
  {
   "cell_type": "code",
   "execution_count": null,
   "id": "b0b3a002",
   "metadata": {},
   "outputs": [],
   "source": []
  }
 ],
 "metadata": {
  "kernelspec": {
   "display_name": "Python 3",
   "language": "python",
   "name": "python3"
  },
  "language_info": {
   "codemirror_mode": {
    "name": "ipython",
    "version": 3
   },
   "file_extension": ".py",
   "mimetype": "text/x-python",
   "name": "python",
   "nbconvert_exporter": "python",
   "pygments_lexer": "ipython3",
   "version": "3.8.8"
  }
 },
 "nbformat": 4,
 "nbformat_minor": 5
}
