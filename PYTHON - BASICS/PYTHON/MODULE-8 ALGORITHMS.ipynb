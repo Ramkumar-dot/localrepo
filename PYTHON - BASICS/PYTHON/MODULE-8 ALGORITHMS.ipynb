{
 "cells": [
  {
   "cell_type": "markdown",
   "id": "fc83c348",
   "metadata": {},
   "source": [
    "# ALGORITHM\n",
    "## TREE TRAVERSAL"
   ]
  },
  {
   "cell_type": "code",
   "execution_count": 2,
   "id": "3c008662",
   "metadata": {},
   "outputs": [],
   "source": [
    "class Node:\n",
    "    def __init__(self,val):\n",
    "        self.lc= None\n",
    "        self.rc=None\n",
    "        self.nodedata=val\n",
    "        \n",
    "root=Node(1)\n",
    "root.lc=Node(2)\n",
    "root.rc=Node(3)\n",
    "root.lc.lc=Node(4)\n",
    "root.lc.rc=Node(5)\n"
   ]
  },
  {
   "cell_type": "markdown",
   "id": "6f41d06a",
   "metadata": {},
   "source": [
    "## TYPES\n",
    "\n",
    "### IN ORDER"
   ]
  },
  {
   "cell_type": "code",
   "execution_count": 3,
   "id": "63660a29",
   "metadata": {},
   "outputs": [
    {
     "name": "stdout",
     "output_type": "stream",
     "text": [
      "4\n",
      "2\n",
      "5\n",
      "1\n",
      "3\n"
     ]
    }
   ],
   "source": [
    "def Inorder(root):\n",
    "    if root:\n",
    "        Inorder(root.lc)\n",
    "        print(root.nodedata)\n",
    "        Inorder(root.rc)\n",
    "        \n",
    "Inorder(root)"
   ]
  },
  {
   "cell_type": "markdown",
   "id": "88d8962d",
   "metadata": {},
   "source": [
    "### PREORDER"
   ]
  },
  {
   "cell_type": "code",
   "execution_count": 4,
   "id": "ee33e2a0",
   "metadata": {},
   "outputs": [
    {
     "name": "stdout",
     "output_type": "stream",
     "text": [
      "1\n",
      "2\n",
      "4\n",
      "5\n",
      "3\n"
     ]
    }
   ],
   "source": [
    "def Preorder(root):\n",
    "    if root:\n",
    "        print(root.nodedata)\n",
    "        Preorder(root.lc)\n",
    "        Preorder(root.rc)\n",
    "\n",
    "Preorder(root)"
   ]
  },
  {
   "cell_type": "markdown",
   "id": "3172da66",
   "metadata": {},
   "source": [
    "### POST ORDER"
   ]
  },
  {
   "cell_type": "code",
   "execution_count": 6,
   "id": "4c3a6397",
   "metadata": {},
   "outputs": [
    {
     "name": "stdout",
     "output_type": "stream",
     "text": [
      "4\n",
      "5\n",
      "2\n",
      "3\n",
      "1\n"
     ]
    }
   ],
   "source": [
    "def Postorder(root):\n",
    "    if root:\n",
    "        Postorder(root.lc)\n",
    "        Postorder(root.rc)\n",
    "        print(root.nodedata)\n",
    "\n",
    "Postorder(root)"
   ]
  },
  {
   "cell_type": "code",
   "execution_count": null,
   "id": "749a554e",
   "metadata": {},
   "outputs": [],
   "source": []
  }
 ],
 "metadata": {
  "kernelspec": {
   "display_name": "Python 3",
   "language": "python",
   "name": "python3"
  },
  "language_info": {
   "codemirror_mode": {
    "name": "ipython",
    "version": 3
   },
   "file_extension": ".py",
   "mimetype": "text/x-python",
   "name": "python",
   "nbconvert_exporter": "python",
   "pygments_lexer": "ipython3",
   "version": "3.8.8"
  }
 },
 "nbformat": 4,
 "nbformat_minor": 5
}
