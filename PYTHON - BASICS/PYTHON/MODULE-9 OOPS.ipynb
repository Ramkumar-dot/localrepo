{
 "cells": [
  {
   "cell_type": "markdown",
   "id": "c87b4e8a",
   "metadata": {},
   "source": [
    "# OOPS\n",
    "## CLASSES AND OBJECTS"
   ]
  },
  {
   "cell_type": "code",
   "execution_count": 1,
   "id": "29fb8486",
   "metadata": {},
   "outputs": [
    {
     "name": "stdout",
     "output_type": "stream",
     "text": [
      "hello\n"
     ]
    }
   ],
   "source": [
    "class Newclass():\n",
    " def func1(self):\n",
    "     return \"hello\"\n",
    "obj=Newclass()\n",
    "print(obj.func1())\n"
   ]
  },
  {
   "cell_type": "markdown",
   "id": "36b0daf9",
   "metadata": {},
   "source": [
    "## CALLING TWO FUNCTIONS BY TWO OBJECTS"
   ]
  },
  {
   "cell_type": "code",
   "execution_count": 2,
   "id": "742a1472",
   "metadata": {},
   "outputs": [
    {
     "name": "stdout",
     "output_type": "stream",
     "text": [
      "hai\n",
      "hallo\n"
     ]
    }
   ],
   "source": [
    "class nee2():\n",
    "    def func2(self):\n",
    "        print(\"hai\")\n",
    "    \n",
    "    def func3(self):\n",
    "        print(\"hallo\")\n",
    "        \n",
    "obj1=nee2()\n",
    "obj2=nee2()\n",
    "obj1.func2()\n",
    "obj2.func3()\n",
    "     "
   ]
  },
  {
   "cell_type": "markdown",
   "id": "ad764a0e",
   "metadata": {},
   "source": [
    "### OOPS CONNCEPTS\n",
    "#### INHERITANCE,ENCAPSULATION,ABSTRACTION,POLYMORPHISM"
   ]
  },
  {
   "cell_type": "code",
   "execution_count": null,
   "id": "c23ffca2",
   "metadata": {},
   "outputs": [],
   "source": []
  }
 ],
 "metadata": {
  "kernelspec": {
   "display_name": "Python 3",
   "language": "python",
   "name": "python3"
  },
  "language_info": {
   "codemirror_mode": {
    "name": "ipython",
    "version": 3
   },
   "file_extension": ".py",
   "mimetype": "text/x-python",
   "name": "python",
   "nbconvert_exporter": "python",
   "pygments_lexer": "ipython3",
   "version": "3.8.8"
  }
 },
 "nbformat": 4,
 "nbformat_minor": 5
}
