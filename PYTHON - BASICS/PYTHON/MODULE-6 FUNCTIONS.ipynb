{
 "cells": [
  {
   "cell_type": "markdown",
   "id": "20e5d5ca",
   "metadata": {},
   "source": [
    "# FUNCTIONS\n",
    "\n",
    "## BUILT IN FUNCTIONS\n",
    "### PRINT"
   ]
  },
  {
   "cell_type": "code",
   "execution_count": 1,
   "id": "fe608c58",
   "metadata": {},
   "outputs": [
    {
     "name": "stdout",
     "output_type": "stream",
     "text": [
      "1:hallo 2: world\n",
      "ab\n",
      "hello world\n",
      "haworld\n",
      "10\n"
     ]
    }
   ],
   "source": [
    "print(\"1:hallo 2: world\")\n",
    "print(\"a\"\"b\")\n",
    "print(\"hello world\")\n",
    "print(\"ha\"+\"world\")\n",
    "print(10)\n"
   ]
  },
  {
   "cell_type": "markdown",
   "id": "a3654cfc",
   "metadata": {},
   "source": [
    "### SUM"
   ]
  },
  {
   "cell_type": "code",
   "execution_count": 2,
   "id": "c96bc1a1",
   "metadata": {},
   "outputs": [
    {
     "name": "stdout",
     "output_type": "stream",
     "text": [
      "15\n"
     ]
    }
   ],
   "source": [
    "\n",
    "a=(10,2,3)\n",
    "c=sum(a)\n",
    "print(c)"
   ]
  },
  {
   "cell_type": "markdown",
   "id": "321a0fc7",
   "metadata": {},
   "source": [
    "###  MIN AND MAX IN A LIST"
   ]
  },
  {
   "cell_type": "code",
   "execution_count": 4,
   "id": "ec0dbb5d",
   "metadata": {},
   "outputs": [
    {
     "name": "stdout",
     "output_type": "stream",
     "text": [
      "2\n",
      "10\n"
     ]
    }
   ],
   "source": [
    "print(min(a))\n",
    "print(max(a))"
   ]
  },
  {
   "cell_type": "markdown",
   "id": "3026d115",
   "metadata": {},
   "source": [
    "### LAMDA"
   ]
  },
  {
   "cell_type": "code",
   "execution_count": 9,
   "id": "0426c18a",
   "metadata": {},
   "outputs": [
    {
     "name": "stdout",
     "output_type": "stream",
     "text": [
      "9\n"
     ]
    }
   ],
   "source": [
    "a=lambda y:y*y\n",
    "print(a(3))"
   ]
  },
  {
   "cell_type": "code",
   "execution_count": 10,
   "id": "05808f77",
   "metadata": {},
   "outputs": [
    {
     "name": "stdout",
     "output_type": "stream",
     "text": [
      "3\n"
     ]
    }
   ],
   "source": [
    "b=lambda x,y:x+y\n",
    "print(b(1,2))"
   ]
  },
  {
   "cell_type": "markdown",
   "id": "f3f91b07",
   "metadata": {},
   "source": [
    "### USER DEFINED FUNCTION"
   ]
  },
  {
   "cell_type": "code",
   "execution_count": 12,
   "id": "20576d2d",
   "metadata": {},
   "outputs": [
    {
     "data": {
      "text/plain": [
       "2"
      ]
     },
     "execution_count": 12,
     "metadata": {},
     "output_type": "execute_result"
    }
   ],
   "source": [
    "def add(a,y):\n",
    " return a+y\n",
    "\n",
    "add(1,1)"
   ]
  },
  {
   "cell_type": "code",
   "execution_count": 13,
   "id": "f0ccefa2",
   "metadata": {},
   "outputs": [
    {
     "data": {
      "text/plain": [
       "2"
      ]
     },
     "execution_count": 13,
     "metadata": {},
     "output_type": "execute_result"
    }
   ],
   "source": [
    "def multiph_u(a,f,g):\n",
    " return a*f*g\n",
    "\n",
    "multiph_u(1,2,1)"
   ]
  },
  {
   "cell_type": "code",
   "execution_count": null,
   "id": "47e03949",
   "metadata": {},
   "outputs": [],
   "source": []
  }
 ],
 "metadata": {
  "kernelspec": {
   "display_name": "Python 3",
   "language": "python",
   "name": "python3"
  },
  "language_info": {
   "codemirror_mode": {
    "name": "ipython",
    "version": 3
   },
   "file_extension": ".py",
   "mimetype": "text/x-python",
   "name": "python",
   "nbconvert_exporter": "python",
   "pygments_lexer": "ipython3",
   "version": "3.8.8"
  }
 },
 "nbformat": 4,
 "nbformat_minor": 5
}
