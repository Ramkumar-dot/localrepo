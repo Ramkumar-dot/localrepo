{
 "cells": [
  {
   "cell_type": "markdown",
   "id": "a4f80e8d",
   "metadata": {},
   "source": [
    "# WHILE LOOP "
   ]
  },
  {
   "cell_type": "code",
   "execution_count": 1,
   "id": "962414b7",
   "metadata": {},
   "outputs": [
    {
     "name": "stdout",
     "output_type": "stream",
     "text": [
      "0\n",
      "1\n",
      "2\n",
      "3\n"
     ]
    }
   ],
   "source": [
    "i=0\n",
    "while i<4:\n",
    "    print(i)\n",
    "    i+=1"
   ]
  },
  {
   "cell_type": "markdown",
   "id": "7a86704a",
   "metadata": {},
   "source": [
    "## BREAK"
   ]
  },
  {
   "cell_type": "code",
   "execution_count": 4,
   "id": "48f0145a",
   "metadata": {},
   "outputs": [
    {
     "name": "stdout",
     "output_type": "stream",
     "text": [
      "e\n",
      "d\n",
      "u\n",
      "LOOP ENDED\n"
     ]
    }
   ],
   "source": [
    "for x in \"edurekha\":\n",
    "    if x==\"r\":\n",
    "        break\n",
    "    print(x)\n",
    "print(\"LOOP ENDED\")"
   ]
  },
  {
   "cell_type": "markdown",
   "id": "7916a4f8",
   "metadata": {},
   "source": [
    "## CONTINUE"
   ]
  },
  {
   "cell_type": "code",
   "execution_count": 5,
   "id": "5482be9e",
   "metadata": {},
   "outputs": [
    {
     "name": "stdout",
     "output_type": "stream",
     "text": [
      "e\n",
      "d\n",
      "u\n",
      "e\n",
      "k\n",
      "h\n",
      "a\n",
      "LOOP ENDED\n"
     ]
    }
   ],
   "source": [
    "for x in \"edurekha\":\n",
    "    if x==\"r\":\n",
    "        continue\n",
    "    print(x)\n",
    "print(\"LOOP ENDED\")"
   ]
  },
  {
   "cell_type": "markdown",
   "id": "a300da83",
   "metadata": {},
   "source": [
    "## PASS"
   ]
  },
  {
   "cell_type": "code",
   "execution_count": 9,
   "id": "943149b6",
   "metadata": {},
   "outputs": [
    {
     "name": "stdout",
     "output_type": "stream",
     "text": [
      "e\n",
      "d\n",
      "u\n",
      "pass\n",
      "r\n",
      "e\n",
      "k\n",
      "h\n",
      "a\n",
      "LOOP ENDED\n"
     ]
    }
   ],
   "source": [
    "for x in \"edurekha\":\n",
    "    if x==\"r\":\n",
    "        pass\n",
    "        print(\"pass\")\n",
    "    print(x)\n",
    "print(\"LOOP ENDED\")"
   ]
  },
  {
   "cell_type": "code",
   "execution_count": null,
   "id": "d42ef064",
   "metadata": {},
   "outputs": [],
   "source": []
  }
 ],
 "metadata": {
  "kernelspec": {
   "display_name": "Python 3",
   "language": "python",
   "name": "python3"
  },
  "language_info": {
   "codemirror_mode": {
    "name": "ipython",
    "version": 3
   },
   "file_extension": ".py",
   "mimetype": "text/x-python",
   "name": "python",
   "nbconvert_exporter": "python",
   "pygments_lexer": "ipython3",
   "version": "3.8.8"
  }
 },
 "nbformat": 4,
 "nbformat_minor": 5
}
